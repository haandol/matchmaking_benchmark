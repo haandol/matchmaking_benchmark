{
 "cells": [
  {
   "cell_type": "code",
   "execution_count": 766,
   "metadata": {},
   "outputs": [],
   "source": [
    "import math\n",
    "import random\n",
    "import sqlite3\n",
    "import numpy as np\n",
    "from pprint import pprint\n",
    "import matplotlib.pyplot as plt"
   ]
  },
  {
   "cell_type": "code",
   "execution_count": 767,
   "metadata": {},
   "outputs": [],
   "source": [
    "%matplotlib inline"
   ]
  },
  {
   "cell_type": "markdown",
   "metadata": {},
   "source": [
    "# Init db "
   ]
  },
  {
   "cell_type": "code",
   "execution_count": 768,
   "metadata": {},
   "outputs": [],
   "source": [
    "conn = sqlite3.connect(':memory:')\n",
    "c = conn.cursor()"
   ]
  },
  {
   "cell_type": "code",
   "execution_count": 769,
   "metadata": {},
   "outputs": [
    {
     "ename": "OperationalError",
     "evalue": "no such table: users",
     "output_type": "error",
     "traceback": [
      "\u001b[0;31m---------------------------------------------------------------------------\u001b[0m",
      "\u001b[0;31mOperationalError\u001b[0m                          Traceback (most recent call last)",
      "\u001b[0;32m<ipython-input-769-803f48e6be64>\u001b[0m in \u001b[0;36m<module>\u001b[0;34m()\u001b[0m\n\u001b[0;32m----> 1\u001b[0;31m \u001b[0mc\u001b[0m\u001b[0;34m.\u001b[0m\u001b[0mexecute\u001b[0m\u001b[0;34m(\u001b[0m\u001b[0;34m'''DROP TABLE users'''\u001b[0m\u001b[0;34m)\u001b[0m\u001b[0;34m\u001b[0m\u001b[0;34m\u001b[0m\u001b[0m\n\u001b[0m",
      "\u001b[0;31mOperationalError\u001b[0m: no such table: users"
     ]
    }
   ],
   "source": [
    "c.execute('''DROP TABLE users''')"
   ]
  },
  {
   "cell_type": "code",
   "execution_count": 770,
   "metadata": {},
   "outputs": [
    {
     "ename": "OperationalError",
     "evalue": "no such table: queue",
     "output_type": "error",
     "traceback": [
      "\u001b[0;31m---------------------------------------------------------------------------\u001b[0m",
      "\u001b[0;31mOperationalError\u001b[0m                          Traceback (most recent call last)",
      "\u001b[0;32m<ipython-input-770-d0f32b27f3db>\u001b[0m in \u001b[0;36m<module>\u001b[0;34m()\u001b[0m\n\u001b[0;32m----> 1\u001b[0;31m \u001b[0mc\u001b[0m\u001b[0;34m.\u001b[0m\u001b[0mexecute\u001b[0m\u001b[0;34m(\u001b[0m\u001b[0;34m'''DROP TABLE queue'''\u001b[0m\u001b[0;34m)\u001b[0m\u001b[0;34m\u001b[0m\u001b[0;34m\u001b[0m\u001b[0m\n\u001b[0m",
      "\u001b[0;31mOperationalError\u001b[0m: no such table: queue"
     ]
    }
   ],
   "source": [
    "c.execute('''DROP TABLE queue''')"
   ]
  },
  {
   "cell_type": "code",
   "execution_count": 771,
   "metadata": {},
   "outputs": [
    {
     "data": {
      "text/plain": [
       "<sqlite3.Cursor at 0x118fb9b90>"
      ]
     },
     "execution_count": 771,
     "metadata": {},
     "output_type": "execute_result"
    }
   ],
   "source": [
    "c.execute('''CREATE TABLE users\n",
    "             (id integer primary key, rating integer, skill integer, rd real, win integer, lose integer, draw integer)''')"
   ]
  },
  {
   "cell_type": "code",
   "execution_count": 772,
   "metadata": {},
   "outputs": [
    {
     "data": {
      "text/plain": [
       "<sqlite3.Cursor at 0x118fb9b90>"
      ]
     },
     "execution_count": 772,
     "metadata": {},
     "output_type": "execute_result"
    }
   ],
   "source": [
    "c.execute('''CREATE TABLE queue\n",
    "             (id integer primary key, rating integer, skill integer, rd real, win integer, lose integer, draw integer)''')"
   ]
  },
  {
   "cell_type": "markdown",
   "metadata": {},
   "source": [
    "# Generate Users "
   ]
  },
  {
   "cell_type": "code",
   "execution_count": 773,
   "metadata": {},
   "outputs": [],
   "source": [
    "mu = 1500\n",
    "sigma = 400\n",
    "size = 10000\n",
    "skills = np.random.normal(mu, sigma, size)"
   ]
  },
  {
   "cell_type": "code",
   "execution_count": 774,
   "metadata": {},
   "outputs": [
    {
     "data": {
      "image/png": "[encoded data removed]",
      "text/plain": [
       "<Figure size 432x288 with 1 Axes>"
      ]
     },
     "metadata": {},
     "output_type": "display_data"
    }
   ],
   "source": [
    "plt.hist(skills, 50, density=30)\n",
    "plt.xlabel('True Skill')\n",
    "plt.ylabel('Probability')\n",
    "plt.title('Histogram of True Skill')\n",
    "plt.axis([0, 3000, 0, 0.0015])\n",
    "plt.grid(True)\n",
    "plt.show()"
   ]
  },
  {
   "cell_type": "code",
   "execution_count": 775,
   "metadata": {},
   "outputs": [
    {
     "data": {
      "text/plain": [
       "array([[1.000e+00, 2.326e+03, 1.500e+03, 3.500e+02],\n",
       "       [2.000e+00, 1.688e+03, 1.500e+03, 3.500e+02],\n",
       "       [3.000e+00, 1.613e+03, 1.500e+03, 3.500e+02],\n",
       "       [4.000e+00, 1.560e+03, 1.500e+03, 3.500e+02],\n",
       "       [5.000e+00, 2.066e+03, 1.500e+03, 3.500e+02]])"
      ]
     },
     "execution_count": 775,
     "metadata": {},
     "output_type": "execute_result"
    }
   ],
   "source": [
    "raw_users = np.array([\n",
    "    [\n",
    "        _id,\n",
    "        max(10, int(skill)),\n",
    "        mu,\n",
    "        350.0\n",
    "    ]\n",
    "    for _id, skill in zip(range(1, size+1), skills)\n",
    "])\n",
    "raw_users[:5]"
   ]
  },
  {
   "cell_type": "markdown",
   "metadata": {},
   "source": [
    "# Match Functions"
   ]
  },
  {
   "cell_type": "code",
   "execution_count": 840,
   "metadata": {},
   "outputs": [],
   "source": [
    "def init(users):\n",
    "    c.execute(\"DELETE FROM users\")\n",
    "    conn.commit()\n",
    "    \n",
    "    c.executemany(\"INSERT INTO users (id, skill, rating, rd, win, lose, draw) VALUES (?, ?, ?, ?, 0, 0, 0)\", users)\n",
    "    conn.commit()"
   ]
  },
  {
   "cell_type": "code",
   "execution_count": 841,
   "metadata": {},
   "outputs": [],
   "source": [
    "def enqueue(size=3000):\n",
    "    c.execute(\"DELETE FROM queue\")\n",
    "    conn.commit()\n",
    "    \n",
    "    c.execute(\"SELECT id, skill, rating, rd, win, lose, draw FROM users ORDER BY rating\")\n",
    "    users = c.fetchall()\n",
    "    c.executemany(\"INSERT INTO queue (id, skill, rating, rd, win, lose, draw) VALUES (?, ?, ?, ?, ?, ?, ?)\", random.sample(users, size))\n",
    "    conn.commit()"
   ]
  },
  {
   "cell_type": "code",
   "execution_count": 842,
   "metadata": {},
   "outputs": [],
   "source": [
    "def matchmake(match_size=2, gap=200):\n",
    "    matches = []\n",
    "    run_count = 0\n",
    "    while True:\n",
    "        run_count += 1\n",
    "        c.execute(\"SELECT id, skill, rating, rd, win, lose, draw FROM queue ORDER BY rating LIMIT 1\")\n",
    "        entry = c.fetchone()\n",
    "        if not entry:\n",
    "            break\n",
    "        else:\n",
    "            c.execute(\"DELETE FROM queue WHERE id = ?\", (entry[0],))\n",
    "            conn.commit()\n",
    "        \n",
    "        if run_count % 1000 == 0:\n",
    "            print('run: ', run_count)\n",
    "\n",
    "        match_found = False\n",
    "        candies = [entry]\n",
    "        \n",
    "        c.execute(\"SELECT id, skill, rating, rd, win, lose, draw FROM queue WHERE rating <= ? AND rating >= ? ORDER BY rating LIMIT 50\", (entry[2]+gap, entry[2]-gap))\n",
    "        entries = list(c.fetchall())\n",
    "        random.shuffle(entries)\n",
    "        \n",
    "        for idx, candi in enumerate(entries):\n",
    "            if candi[2] - 400 < entry[2] < candi[2] + 400:\n",
    "                candies.append(candi)\n",
    "                \n",
    "            if len(candies) == match_size:\n",
    "                matches.append(candies)\n",
    "                match_found = True\n",
    "                for el in candies:\n",
    "                    c.execute(\"DELETE FROM queue WHERE id = ?\", (el[0],))\n",
    "                    conn.commit()\n",
    "                break\n",
    "                \n",
    "        if not match_found:\n",
    "            print('not found match')\n",
    "\n",
    "    c.execute(\"DELETE FROM queue\")\n",
    "    conn.commit()\n",
    "\n",
    "    return matches"
   ]
  },
  {
   "cell_type": "code",
   "execution_count": 843,
   "metadata": {},
   "outputs": [],
   "source": [
    "def display():\n",
    "    c.execute('SELECT id, skill, rating, win, lose, draw FROM users ORDER BY rating')\n",
    "    res = np.array(sorted(list(c.fetchall()), key=lambda x: x[0]))\n",
    "    pprint(res[-10:])\n",
    "    \n",
    "    user_ids = res[:, 0]\n",
    "    user_skills = res[:, 1]\n",
    "    user_ratings = res[:, 2]\n",
    "\n",
    "    fig = plt.figure()\n",
    "    ax = fig.add_subplot(1, 1, 1)\n",
    "    line = [min(user_skills), max(user_skills)]\n",
    "    ax.plot(line, line, '--')\n",
    "    ax.set_ylim([min(user_ratings)-100, max(user_ratings)+100])\n",
    "    fig.tight_layout()\n",
    "\n",
    "    plt.scatter(x=user_skills, y=user_ratings, color='g')\n",
    "    plt.ylabel('rating')\n",
    "    plt.xlabel('strength')\n",
    "    plt.show()"
   ]
  },
  {
   "cell_type": "markdown",
   "metadata": {},
   "source": [
    "# ELO"
   ]
  },
  {
   "cell_type": "code",
   "execution_count": 844,
   "metadata": {},
   "outputs": [],
   "source": [
    "def get_Sa(userA, userB):\n",
    "    momentum = 50\n",
    "    probA = np.random.randint(low=0, high=userA[1], size=momentum)\n",
    "    probB = np.random.randint(low=0, high=userB[1], size=momentum)\n",
    "    \n",
    "    W = 0\n",
    "    D = 0\n",
    "    L = 0\n",
    "    for pa, pb in zip(probA, probB):\n",
    "        if pa > pb:\n",
    "            W += 1\n",
    "        elif pa == pb:\n",
    "            D += 1\n",
    "        else:\n",
    "            L += 1\n",
    "    \n",
    "    if W > L:\n",
    "        return 1\n",
    "    elif W == L:\n",
    "        return 0.5\n",
    "    else:\n",
    "        return 0"
   ]
  },
  {
   "cell_type": "code",
   "execution_count": 845,
   "metadata": {},
   "outputs": [
    {
     "data": {
      "text/plain": [
       "0.16004930536524656"
      ]
     },
     "execution_count": 845,
     "metadata": {},
     "output_type": "execute_result"
    }
   ],
   "source": [
    "1 / (1 + 10 ** ((1994-1706)/400))"
   ]
  },
  {
   "cell_type": "code",
   "execution_count": 846,
   "metadata": {},
   "outputs": [],
   "source": [
    "def match_elo(userA, userB):\n",
    "    K = 48\n",
    "    \n",
    "    Ra = userA[2]\n",
    "    Rb = userB[2]\n",
    "\n",
    "    Sa = get_Sa(userA, userB)\n",
    "    Sb = 1 - Sa\n",
    "\n",
    "    Ea = 1 / (1 + 10 ** ((Rb-Ra)/400))\n",
    "    Eb = 1 / (1 + 10 ** ((Ra-Rb)/400))\n",
    "\n",
    "    return Sa, Sb, int(Ra + K * (Sa-Ea)), int(Rb + K * (Sb-Eb))"
   ]
  },
  {
   "cell_type": "code",
   "execution_count": 847,
   "metadata": {},
   "outputs": [],
   "source": [
    "def match_and_update_ratings_elo(rounds):\n",
    "    for i in range(rounds):\n",
    "        print('epoch: ', i)\n",
    "        enqueue()\n",
    "        matches = matchmake()\n",
    "        for userA, userB in matches:\n",
    "            Sa, Sb, Ra, Rb = match_elo(userA, userB)\n",
    "\n",
    "            aWin = userA[4] + 1 if Sa == 1 else userA[4]\n",
    "            aLose = userA[5] + 1 if Sa == 0 else userA[5]\n",
    "            aDraw = userA[6] + 1 if Sa == 0.5 else userA[6]\n",
    "\n",
    "            bWin = userB[4] + 1 if Sb == 1 else userB[4]\n",
    "            bLose = userB[5] + 1 if Sb == 0 else userB[5]\n",
    "            bDraw = userB[6] + 1 if Sb == 0.5 else userB[6]\n",
    "\n",
    "            c.execute(\"UPDATE users SET rating=?, win=?, lose=?, draw=? WHERE id=?\", (Ra, aWin, aLose, aDraw, userA[0]))\n",
    "            conn.commit()\n",
    "            c.execute(\"UPDATE users SET rating=?, win=?, lose=?, draw=? WHERE id=?\", (Rb, bWin, bLose, bDraw, userB[0]))\n",
    "            conn.commit()"
   ]
  },
  {
   "cell_type": "code",
   "execution_count": 848,
   "metadata": {},
   "outputs": [],
   "source": [
    "init(raw_users)"
   ]
  },
  {
   "cell_type": "code",
   "execution_count": 849,
   "metadata": {},
   "outputs": [
    {
     "name": "stdout",
     "output_type": "stream",
     "text": [
      "epoch:  0\n",
      "run:  1000\n",
      "epoch:  1\n",
      "run:  1000\n",
      "epoch:  2\n",
      "run:  1000\n",
      "epoch:  3\n",
      "run:  1000\n",
      "epoch:  4\n",
      "run:  1000\n",
      "epoch:  5\n",
      "run:  1000\n",
      "epoch:  6\n",
      "run:  1000\n",
      "epoch:  7\n",
      "run:  1000\n",
      "epoch:  8\n",
      "run:  1000\n",
      "epoch:  9\n",
      "run:  1000\n",
      "epoch:  10\n",
      "run:  1000\n",
      "epoch:  11\n",
      "run:  1000\n",
      "epoch:  12\n",
      "run:  1000\n",
      "epoch:  13\n",
      "run:  1000\n",
      "epoch:  14\n",
      "run:  1000\n",
      "epoch:  15\n",
      "run:  1000\n",
      "epoch:  16\n",
      "run:  1000\n",
      "epoch:  17\n",
      "run:  1000\n",
      "epoch:  18\n",
      "run:  1000\n",
      "epoch:  19\n",
      "run:  1000\n",
      "epoch:  20\n",
      "run:  1000\n",
      "epoch:  21\n",
      "run:  1000\n",
      "epoch:  22\n",
      "run:  1000\n",
      "epoch:  23\n",
      "run:  1000\n",
      "epoch:  24\n",
      "run:  1000\n",
      "epoch:  25\n",
      "run:  1000\n",
      "epoch:  26\n",
      "run:  1000\n",
      "epoch:  27\n",
      "run:  1000\n",
      "epoch:  28\n",
      "run:  1000\n",
      "epoch:  29\n",
      "run:  1000\n"
     ]
    }
   ],
   "source": [
    "rounds = 30\n",
    "match_and_update_ratings_elo(rounds)"
   ]
  },
  {
   "cell_type": "code",
   "execution_count": 850,
   "metadata": {},
   "outputs": [
    {
     "name": "stdout",
     "output_type": "stream",
     "text": [
      "array([[ 9991,  1461,  1455,     3,     5,     1],\n",
      "       [ 9992,  1964,  1597,     7,     3,     2],\n",
      "       [ 9993,   881,  1405,     2,     6,     1],\n",
      "       [ 9994,  2375,  1646,     8,     2,     0],\n",
      "       [ 9995,  1574,  1481,     2,     3,     0],\n",
      "       [ 9996,  1645,  1500,     4,     4,     0],\n",
      "       [ 9997,  1528,  1480,     4,     5,     0],\n",
      "       [ 9998,  1713,  1479,     3,     4,     1],\n",
      "       [ 9999,  1483,  1504,     6,     6,     0],\n",
      "       [10000,   973,  1429,     2,     5,     0]])\n"
     ]
    },
    {
     "data": {
      "image/png": "[encoded data removed]",
      "text/plain": [
       "<Figure size 432x288 with 1 Axes>"
      ]
     },
     "metadata": {},
     "output_type": "display_data"
    }
   ],
   "source": [
    "display()"
   ]
  },
  {
   "cell_type": "code",
   "execution_count": 851,
   "metadata": {},
   "outputs": [
    {
     "name": "stdout",
     "output_type": "stream",
     "text": [
      "epoch:  0\n",
      "run:  1000\n",
      "epoch:  1\n",
      "run:  1000\n",
      "epoch:  2\n",
      "run:  1000\n",
      "epoch:  3\n",
      "run:  1000\n",
      "epoch:  4\n",
      "run:  1000\n",
      "epoch:  5\n",
      "run:  1000\n",
      "epoch:  6\n",
      "run:  1000\n",
      "epoch:  7\n",
      "run:  1000\n",
      "epoch:  8\n",
      "run:  1000\n",
      "epoch:  9\n",
      "run:  1000\n",
      "epoch:  10\n",
      "run:  1000\n",
      "epoch:  11\n",
      "run:  1000\n",
      "epoch:  12\n",
      "run:  1000\n",
      "epoch:  13\n",
      "run:  1000\n",
      "epoch:  14\n",
      "run:  1000\n",
      "epoch:  15\n",
      "run:  1000\n",
      "epoch:  16\n",
      "run:  1000\n",
      "epoch:  17\n",
      "run:  1000\n",
      "epoch:  18\n",
      "run:  1000\n",
      "epoch:  19\n",
      "run:  1000\n",
      "epoch:  20\n",
      "run:  1000\n",
      "epoch:  21\n",
      "run:  1000\n",
      "epoch:  22\n",
      "run:  1000\n",
      "epoch:  23\n",
      "run:  1000\n",
      "epoch:  24\n",
      "run:  1000\n",
      "epoch:  25\n",
      "run:  1000\n",
      "epoch:  26\n",
      "run:  1000\n",
      "epoch:  27\n",
      "run:  1000\n",
      "epoch:  28\n",
      "run:  1000\n",
      "epoch:  29\n",
      "run:  1000\n",
      "epoch:  30\n",
      "run:  1000\n",
      "epoch:  31\n",
      "run:  1000\n",
      "epoch:  32\n",
      "run:  1000\n",
      "epoch:  33\n",
      "run:  1000\n",
      "epoch:  34\n",
      "run:  1000\n",
      "epoch:  35\n",
      "run:  1000\n",
      "epoch:  36\n",
      "run:  1000\n",
      "epoch:  37\n",
      "run:  1000\n",
      "epoch:  38\n",
      "run:  1000\n",
      "epoch:  39\n",
      "run:  1000\n",
      "epoch:  40\n",
      "run:  1000\n",
      "epoch:  41\n",
      "run:  1000\n",
      "epoch:  42\n",
      "run:  1000\n",
      "epoch:  43\n",
      "run:  1000\n",
      "epoch:  44\n",
      "run:  1000\n",
      "epoch:  45\n",
      "run:  1000\n",
      "epoch:  46\n",
      "run:  1000\n",
      "epoch:  47\n",
      "run:  1000\n",
      "epoch:  48\n",
      "run:  1000\n",
      "epoch:  49\n",
      "run:  1000\n",
      "epoch:  50\n",
      "run:  1000\n",
      "epoch:  51\n",
      "run:  1000\n",
      "epoch:  52\n",
      "run:  1000\n",
      "epoch:  53\n",
      "run:  1000\n",
      "epoch:  54\n",
      "run:  1000\n",
      "epoch:  55\n",
      "run:  1000\n",
      "epoch:  56\n",
      "run:  1000\n",
      "epoch:  57\n",
      "run:  1000\n",
      "epoch:  58\n",
      "run:  1000\n",
      "epoch:  59\n",
      "run:  1000\n"
     ]
    }
   ],
   "source": [
    "rounds = 60\n",
    "match_and_update_ratings_elo(rounds)"
   ]
  },
  {
   "cell_type": "code",
   "execution_count": 852,
   "metadata": {},
   "outputs": [
    {
     "name": "stdout",
     "output_type": "stream",
     "text": [
      "array([[ 9991,  1461,  1473,    14,    15,     3],\n",
      "       [ 9992,  1964,  1589,    16,    12,     2],\n",
      "       [ 9993,   881,  1265,     7,    16,     3],\n",
      "       [ 9994,  2375,  1764,    17,     6,     2],\n",
      "       [ 9995,  1574,  1451,     9,    11,     3],\n",
      "       [ 9996,  1645,  1521,    12,    11,     2],\n",
      "       [ 9997,  1528,  1520,    14,    13,     2],\n",
      "       [ 9998,  1713,  1518,    12,    11,     4],\n",
      "       [ 9999,  1483,  1472,    15,    16,     1],\n",
      "       [10000,   973,  1333,     7,    14,     1]])\n"
     ]
    },
    {
     "data": {
      "image/png": "[encoded data removed]",
      "text/plain": [
       "<Figure size 432x288 with 1 Axes>"
      ]
     },
     "metadata": {},
     "output_type": "display_data"
    }
   ],
   "source": [
    "display()"
   ]
  },
  {
   "cell_type": "markdown",
   "metadata": {},
   "source": [
    "# Glicko2"
   ]
  },
  {
   "cell_type": "code",
   "execution_count": 812,
   "metadata": {},
   "outputs": [],
   "source": [
    "SIGMA = 0.06\n",
    "SCALE = 173.7178"
   ]
  },
  {
   "cell_type": "code",
   "execution_count": 813,
   "metadata": {},
   "outputs": [],
   "source": [
    "def scale_down(user):\n",
    "    return [(user[2]-1500)/SCALE, user[3]/SCALE]\n",
    "\n",
    "def scale_up(mu, RD):\n",
    "    return [SCALE*mu+1500, SCALE*RD]"
   ]
  },
  {
   "cell_type": "code",
   "execution_count": 814,
   "metadata": {},
   "outputs": [],
   "source": [
    "def g(RD):\n",
    "    return 1 / math.sqrt(1 + 3*math.pow(RD, 2) / math.pi**2)\n",
    "\n",
    "def E(mu, muj, RDj):\n",
    "    return 1 / (1 + math.exp(-1*g(RDj)*(mu-muj)))\n",
    "\n",
    "def compute_v(mu, muj, RDj):\n",
    "    expected = E(mu, muj, RDj)\n",
    "    return 1 / (g(RDj)**2 * expected * (1 - expected))"
   ]
  },
  {
   "cell_type": "code",
   "execution_count": 815,
   "metadata": {},
   "outputs": [
    {
     "name": "stdout",
     "output_type": "stream",
     "text": [
      "[0.0, 1.1512924985234674]\n",
      "[-0.5756462492617337, 0.1726938747785201]\n"
     ]
    }
   ],
   "source": [
    "pprint(scale_down([1, 1500, 1500, 200]))\n",
    "pprint(scale_down([2, 1400, 1400, 30]))"
   ]
  },
  {
   "cell_type": "code",
   "execution_count": 816,
   "metadata": {},
   "outputs": [
    {
     "name": "stdout",
     "output_type": "stream",
     "text": [
      "[1500.0, 200.0]\n",
      "[1400.0, 30.000000000000004]\n"
     ]
    }
   ],
   "source": [
    "pprint(scale_up(0, 1.1512924985234674))\n",
    "pprint(scale_up(-0.5756462492617337, 0.1726938747785201))"
   ]
  },
  {
   "cell_type": "code",
   "execution_count": 817,
   "metadata": {},
   "outputs": [
    {
     "data": {
      "text/plain": [
       "0.9954980064506083"
      ]
     },
     "execution_count": 817,
     "metadata": {},
     "output_type": "execute_result"
    }
   ],
   "source": [
    "g(0.1726938747785201)"
   ]
  },
  {
   "cell_type": "code",
   "execution_count": 818,
   "metadata": {},
   "outputs": [
    {
     "data": {
      "text/plain": [
       "0.6394677305521533"
      ]
     },
     "execution_count": 818,
     "metadata": {},
     "output_type": "execute_result"
    }
   ],
   "source": [
    "E(0, -0.5756462492617337, 0.1726938747785201)"
   ]
  },
  {
   "cell_type": "code",
   "execution_count": 819,
   "metadata": {},
   "outputs": [
    {
     "data": {
      "text/plain": [
       "4.376797309217415"
      ]
     },
     "execution_count": 819,
     "metadata": {},
     "output_type": "execute_result"
    }
   ],
   "source": [
    "compute_v(0, -0.5756462492617337, 0.1726938747785201)"
   ]
  },
  {
   "cell_type": "code",
   "execution_count": 827,
   "metadata": {},
   "outputs": [],
   "source": [
    "def compute_RD_dash(RD, v):\n",
    "    RD_star = math.sqrt(RD**2 + SIGMA**2)\n",
    "    return 1 / math.sqrt(1/(RD_star**2) + 1/v)\n",
    "\n",
    "def compute_mu_dash(mu, RD_dash, muj, RDj, S):\n",
    "    return mu + RD_dash**2 * g(RDj) * (S - E(mu, muj, RDj))"
   ]
  },
  {
   "cell_type": "code",
   "execution_count": 828,
   "metadata": {},
   "outputs": [
    {
     "data": {
      "text/plain": [
       "1.0096988569619971"
      ]
     },
     "execution_count": 828,
     "metadata": {},
     "output_type": "execute_result"
    }
   ],
   "source": [
    "compute_RD_dash(1.1512924985234674, compute_v(0, -0.5756462492617337, 0.1726938747785201))"
   ]
  },
  {
   "cell_type": "code",
   "execution_count": 829,
   "metadata": {},
   "outputs": [
    {
     "data": {
      "text/plain": [
       "0.36514420538471803"
      ]
     },
     "execution_count": 829,
     "metadata": {},
     "output_type": "execute_result"
    }
   ],
   "source": [
    "compute_mu_dash(0, 1.0086487113987017, -0.5756462492617337, 0.1726938747785201, 1)"
   ]
  },
  {
   "cell_type": "code",
   "execution_count": 830,
   "metadata": {},
   "outputs": [],
   "source": [
    "def match_glicko(userA, userB):\n",
    "    S1 = get_Sa(userA, userB)\n",
    "    S2 = 1 - S1\n",
    "    \n",
    "    mu1, RD1 = scale_down(userA)\n",
    "    mu2, RD2 = scale_down(userB)\n",
    "        \n",
    "    v1 = compute_v(mu1, mu2, RD2)\n",
    "    RD_dash1 = compute_RD_dash(RD1, v1)\n",
    "    mu_dash1 = compute_mu_dash(mu1, RD_dash1, mu2, RD2, S1)\n",
    "    \n",
    "    v2 = compute_v(mu2, mu1, RD1)\n",
    "    RD_dash2 = compute_RD_dash(RD2, v2)\n",
    "    mu_dash2 = compute_mu_dash(mu2, RD_dash2, mu1, RD1, S2)\n",
    "    \n",
    "    return ([S1] + scale_up(mu_dash1, RD_dash1)), ([S2] + (scale_up(mu_dash2, RD_dash2)))"
   ]
  },
  {
   "cell_type": "code",
   "execution_count": 831,
   "metadata": {},
   "outputs": [],
   "source": [
    "def match_and_update_ratings_glicko(rounds):\n",
    "    for i in range(rounds):\n",
    "        print('epoch: ', i)\n",
    "        enqueue()\n",
    "        matches = matchmake()\n",
    "        for userA, userB in matches:\n",
    "            R1, R2 = match_glicko(userA, userB)\n",
    "            \n",
    "            (S1, mu1, RD1) = R1\n",
    "            (S2, mu2, RD2) = R2\n",
    "\n",
    "            aWin = userA[4] + 1 if S1 == 1 else userA[4]\n",
    "            aLose = userA[5] + 1 if S1 == 0 else userA[5]\n",
    "            aDraw = userA[6] + 1 if S1 == 0.5 else userA[6]\n",
    "\n",
    "            bWin = userB[4] + 1 if S2 == 1 else userB[4]\n",
    "            bLose = userB[5] + 1 if S2 == 0 else userB[5]\n",
    "            bDraw = userB[6] + 1 if S2 == 0.5 else userB[6]\n",
    "\n",
    "            c.execute(\"UPDATE users SET rating=?, RD=?, win=?, lose=?, draw=? WHERE id=?\", (int(mu1), RD1, aWin, aLose, aDraw, userA[0]))\n",
    "            conn.commit()\n",
    "            c.execute(\"UPDATE users SET rating=?, RD=?, win=?, lose=?, draw=? WHERE id=?\", (int(mu2), RD2, bWin, bLose, bDraw, userB[0]))\n",
    "            conn.commit()"
   ]
  },
  {
   "cell_type": "code",
   "execution_count": 853,
   "metadata": {},
   "outputs": [],
   "source": [
    "init(raw_users)"
   ]
  },
  {
   "cell_type": "code",
   "execution_count": 854,
   "metadata": {},
   "outputs": [
    {
     "name": "stdout",
     "output_type": "stream",
     "text": [
      "epoch:  0\n",
      "run:  1000\n",
      "epoch:  1\n",
      "run:  1000\n",
      "epoch:  2\n",
      "run:  1000\n",
      "epoch:  3\n",
      "run:  1000\n",
      "epoch:  4\n",
      "run:  1000\n",
      "epoch:  5\n",
      "run:  1000\n",
      "epoch:  6\n",
      "run:  1000\n",
      "epoch:  7\n",
      "run:  1000\n",
      "epoch:  8\n",
      "run:  1000\n",
      "epoch:  9\n",
      "run:  1000\n",
      "epoch:  10\n",
      "run:  1000\n",
      "epoch:  11\n",
      "run:  1000\n",
      "epoch:  12\n",
      "run:  1000\n",
      "epoch:  13\n",
      "run:  1000\n",
      "epoch:  14\n",
      "run:  1000\n",
      "epoch:  15\n",
      "run:  1000\n",
      "epoch:  16\n",
      "run:  1000\n",
      "epoch:  17\n",
      "run:  1000\n",
      "epoch:  18\n",
      "run:  1000\n",
      "epoch:  19\n",
      "run:  1000\n",
      "epoch:  20\n",
      "run:  1000\n",
      "epoch:  21\n",
      "run:  1000\n",
      "epoch:  22\n",
      "run:  1000\n",
      "epoch:  23\n",
      "run:  1000\n",
      "epoch:  24\n",
      "run:  1000\n",
      "epoch:  25\n",
      "run:  1000\n",
      "epoch:  26\n",
      "run:  1000\n",
      "epoch:  27\n",
      "run:  1000\n",
      "epoch:  28\n",
      "run:  1000\n",
      "epoch:  29\n",
      "run:  1000\n"
     ]
    }
   ],
   "source": [
    "rounds = 30\n",
    "match_and_update_ratings_glicko(rounds)"
   ]
  },
  {
   "cell_type": "code",
   "execution_count": 855,
   "metadata": {},
   "outputs": [
    {
     "name": "stdout",
     "output_type": "stream",
     "text": [
      "array([[ 9991,  1461,  1571,     4,     5,     1],\n",
      "       [ 9992,  1964,  2059,     5,     0,     0],\n",
      "       [ 9993,   881,  1010,     1,     6,     0],\n",
      "       [ 9994,  2375,  1985,     6,     1,     1],\n",
      "       [ 9995,  1574,  1682,     3,     4,     1],\n",
      "       [ 9996,  1645,  1711,     4,     4,     1],\n",
      "       [ 9997,  1528,  1454,     5,     4,     1],\n",
      "       [ 9998,  1713,  1669,     5,     3,     0],\n",
      "       [ 9999,  1483,  1382,     4,     5,     1],\n",
      "       [10000,   973,  1137,     2,     6,     1]])\n"
     ]
    },
    {
     "data": {
      "image/png": "[encoded data removed]",
      "text/plain": [
       "<Figure size 432x288 with 1 Axes>"
      ]
     },
     "metadata": {},
     "output_type": "display_data"
    }
   ],
   "source": [
    "display()"
   ]
  },
  {
   "cell_type": "code",
   "execution_count": 856,
   "metadata": {},
   "outputs": [
    {
     "name": "stdout",
     "output_type": "stream",
     "text": [
      "epoch:  0\n",
      "run:  1000\n",
      "epoch:  1\n",
      "run:  1000\n",
      "epoch:  2\n",
      "run:  1000\n",
      "epoch:  3\n",
      "run:  1000\n",
      "epoch:  4\n",
      "run:  1000\n",
      "epoch:  5\n",
      "run:  1000\n",
      "epoch:  6\n",
      "run:  1000\n",
      "epoch:  7\n",
      "run:  1000\n",
      "epoch:  8\n",
      "run:  1000\n",
      "epoch:  9\n",
      "run:  1000\n",
      "epoch:  10\n",
      "run:  1000\n",
      "epoch:  11\n",
      "run:  1000\n",
      "epoch:  12\n",
      "run:  1000\n",
      "epoch:  13\n",
      "run:  1000\n",
      "epoch:  14\n",
      "run:  1000\n",
      "epoch:  15\n",
      "run:  1000\n",
      "epoch:  16\n",
      "run:  1000\n",
      "epoch:  17\n",
      "run:  1000\n",
      "epoch:  18\n",
      "run:  1000\n",
      "epoch:  19\n",
      "run:  1000\n",
      "epoch:  20\n",
      "run:  1000\n",
      "epoch:  21\n",
      "run:  1000\n",
      "epoch:  22\n",
      "run:  1000\n",
      "epoch:  23\n",
      "run:  1000\n",
      "epoch:  24\n",
      "run:  1000\n",
      "epoch:  25\n",
      "run:  1000\n",
      "epoch:  26\n",
      "run:  1000\n",
      "epoch:  27\n",
      "run:  1000\n",
      "epoch:  28\n",
      "run:  1000\n",
      "epoch:  29\n",
      "run:  1000\n",
      "epoch:  30\n",
      "run:  1000\n",
      "epoch:  31\n",
      "run:  1000\n",
      "epoch:  32\n",
      "run:  1000\n",
      "epoch:  33\n",
      "run:  1000\n",
      "epoch:  34\n",
      "run:  1000\n",
      "epoch:  35\n",
      "run:  1000\n",
      "epoch:  36\n",
      "run:  1000\n",
      "epoch:  37\n",
      "run:  1000\n",
      "not found match\n",
      "not found match\n",
      "epoch:  38\n",
      "run:  1000\n",
      "epoch:  39\n",
      "run:  1000\n",
      "epoch:  40\n",
      "run:  1000\n",
      "epoch:  41\n",
      "run:  1000\n",
      "epoch:  42\n",
      "run:  1000\n",
      "epoch:  43\n",
      "run:  1000\n",
      "epoch:  44\n",
      "run:  1000\n",
      "epoch:  45\n",
      "run:  1000\n",
      "epoch:  46\n",
      "run:  1000\n",
      "epoch:  47\n",
      "run:  1000\n",
      "epoch:  48\n",
      "run:  1000\n",
      "epoch:  49\n",
      "run:  1000\n",
      "epoch:  50\n",
      "run:  1000\n",
      "epoch:  51\n",
      "run:  1000\n",
      "epoch:  52\n",
      "run:  1000\n",
      "epoch:  53\n",
      "run:  1000\n",
      "epoch:  54\n",
      "run:  1000\n",
      "epoch:  55\n",
      "run:  1000\n",
      "epoch:  56\n",
      "run:  1000\n",
      "epoch:  57\n",
      "run:  1000\n",
      "epoch:  58\n",
      "run:  1000\n",
      "epoch:  59\n",
      "run:  1000\n"
     ]
    }
   ],
   "source": [
    "rounds = 60\n",
    "match_and_update_ratings_glicko(rounds)"
   ]
  },
  {
   "cell_type": "code",
   "execution_count": 857,
   "metadata": {},
   "outputs": [
    {
     "name": "stdout",
     "output_type": "stream",
     "text": [
      "array([[ 9991,  1461,  1497,    11,    14,     3],\n",
      "       [ 9992,  1964,  1893,    11,     9,     2],\n",
      "       [ 9993,   881,  1026,     8,    13,     0],\n",
      "       [ 9994,  2375,  2169,    18,     6,     6],\n",
      "       [ 9995,  1574,  1590,     9,    13,     1],\n",
      "       [ 9996,  1645,  1566,    10,    15,     2],\n",
      "       [ 9997,  1528,  1459,    10,     9,     5],\n",
      "       [ 9998,  1713,  1591,    12,    11,     2],\n",
      "       [ 9999,  1483,  1370,    12,    14,     2],\n",
      "       [10000,   973,  1078,     9,    14,     5]])\n"
     ]
    },
    {
     "data": {
      "image/png": "[encoded data removed]",
      "text/plain": [
       "<Figure size 432x288 with 1 Axes>"
      ]
     },
     "metadata": {},
     "output_type": "display_data"
    }
   ],
   "source": [
    "display()"
   ]
  },
  {
   "cell_type": "code",
   "execution_count": null,
   "metadata": {},
   "outputs": [],
   "source": []
  }
 ],
 "metadata": {
  "kernelspec": {
   "display_name": "Python 3",
   "language": "python",
   "name": "python3"
  },
  "language_info": {
   "codemirror_mode": {
    "name": "ipython",
    "version": 3
   },
   "file_extension": ".py",
   "mimetype": "text/x-python",
   "name": "python",
   "nbconvert_exporter": "python",
   "pygments_lexer": "ipython3",
   "version": "3.7.4"
  }
 },
 "nbformat": 4,
 "nbformat_minor": 2
}
